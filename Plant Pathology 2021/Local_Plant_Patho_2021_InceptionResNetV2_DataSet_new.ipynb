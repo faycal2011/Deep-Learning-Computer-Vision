{
 "cells": [
  {
   "cell_type": "code",
   "execution_count": 25,
   "metadata": {},
   "outputs": [],
   "source": [
    "import matplotlib.pyplot as plt\n",
    "import numpy as np\n",
    "from numpy import mean\n",
    "from numpy import std\n",
    "import pandas as pd\n",
    "import cv2\n",
    "from tensorflow.keras import layers\n",
    "from keras.callbacks import ModelCheckpoint\n",
    "import tensorflow as tf\n",
    "from tensorflow import keras\n",
    "\n",
    "from tensorflow.keras import Sequential\n",
    "from tensorflow.keras.applications import InceptionResNetV2\n",
    "from tensorflow.keras.layers import Dense\n",
    "\n",
    "from sklearn.datasets import make_multilabel_classification\n",
    "from sklearn.model_selection import RepeatedKFold\n",
    "from keras.models import Sequential\n",
    "from keras.layers import Dense\n",
    "from sklearn.metrics import accuracy_score\n",
    "from time import time\n",
    "\n",
    "from tensorflow.keras.models import load_model\n",
    "from tensorflow.keras.callbacks import EarlyStopping"
   ]
  },
  {
   "cell_type": "code",
   "execution_count": 26,
   "metadata": {},
   "outputs": [
    {
     "name": "stdout",
     "output_type": "stream",
     "text": [
      "classes=  {'powdery_mildew', 'complex', 'frog_eye_leaf_spot', 'rust', 'healthy', 'scab'}\n",
      "                             image                           labels  scab  \\\n",
      "0  Compressed_800113bb65efe69e.jpg                          healthy     0   \n",
      "1  Compressed_8002cb321f8bfcdf.jpg  scab frog_eye_leaf_spot complex     1   \n",
      "2  Compressed_80070f7fb5e2ccaa.jpg                             scab     1   \n",
      "\n",
      "   rust  powdery_mildew  frog_eye_leaf_spot  complex  \n",
      "0     0               0                   0        0  \n",
      "1     0               0                   1        1  \n",
      "2     0               0                   0        0  \n",
      "['F:/Projet_computer_vision/plant-pathology-2021-fgvc8/compressed/train_images/Compressed_800113bb65efe69e.jpg'\n",
      " 'F:/Projet_computer_vision/plant-pathology-2021-fgvc8/compressed/train_images/Compressed_8002cb321f8bfcdf.jpg'\n",
      " 'F:/Projet_computer_vision/plant-pathology-2021-fgvc8/compressed/train_images/Compressed_80070f7fb5e2ccaa.jpg']\n",
      "['F:/Projet_computer_vision/plant-pathology-2021-fgvc8/test_images/85f8cb619c66b863.jpg'\n",
      " 'F:/Projet_computer_vision/plant-pathology-2021-fgvc8/test_images/ad8770db05586b59.jpg'\n",
      " 'F:/Projet_computer_vision/plant-pathology-2021-fgvc8/test_images/c7b03e718489f3ca.jpg']\n",
      "labels=  [[0. 0. 0. 0. 0.]\n",
      " [1. 0. 0. 1. 1.]\n",
      " [1. 0. 0. 0. 0.]]\n",
      "shapes=  (18632,) (18632, 5)\n"
     ]
    }
   ],
   "source": [
    "# load dataset\n",
    "\n",
    "# sur colab\n",
    "# TRAIN_IMAGES_PATH = \"F:/Projet_computer_vision/plant-pathology-2021-fgvc8/train_images/\"\n",
    "\n",
    "# en local\n",
    "TRAIN_IMAGES_PATH = \"F:/Projet_computer_vision/plant-pathology-2021-fgvc8/compressed/train_images/\"\n",
    "TEST_IMAGES_PATH = \"F:/Projet_computer_vision/plant-pathology-2021-fgvc8/test_images/\"\n",
    "# sur colab\n",
    "TRAIN_PATH = \"F:/Projet_computer_vision/plant-pathology-2021-fgvc8/train.csv\"\n",
    "# en local\n",
    "TRAIN_PATH = \"F:/Projet_computer_vision/plant-pathology-2021-fgvc8/compressed/train_comp.csv\"\n",
    "SUB_PATH = \"F:/Projet_computer_vision/plant-pathology-2021-fgvc8/sample_submission.csv\"\n",
    "\n",
    "sub = pd.read_csv(SUB_PATH)\n",
    "# test_data = pd.read_csv(TEST_PATH)\n",
    "train_data = pd.read_csv(TRAIN_PATH)\n",
    "# print(train_data[:5])\n",
    "test_data = pd.read_csv(SUB_PATH)\n",
    "# print(test_data)\n",
    "\n",
    "# bon 3\n",
    "classes=set()\n",
    "for v in train_data[\"labels\"].values:\n",
    "    classes.update(set(v.split()))\n",
    "print(\"classes= \", classes)\n",
    "\n",
    "#On peut associer les images des feuilles à 5 classes possibles:\n",
    "#'complex', 'frog_eye_leaf_spot', 'powdery_mildew', 'rust', 'scab'\n",
    "# healthy , quand aucune de ces classes n'est là.\n",
    "\n",
    "# train_data['healthy']=train_data['labels'].apply(lambda x: 1 if 'healthy' in x else 0) \n",
    "train_data['scab']=train_data['labels'].apply(lambda x: 1 if 'scab' in x else 0) \n",
    "train_data['rust']=train_data['labels'].apply(lambda x: 1 if 'rust' in x else 0) \n",
    "train_data['powdery_mildew']=train_data['labels'].apply(lambda x: 1 if 'powdery_mildew' in x else 0) \n",
    "train_data['frog_eye_leaf_spot']=train_data['labels'].apply(lambda x: 1 if 'frog_eye_leaf_spot' in x else 0) \n",
    "train_data['complex']=train_data['labels'].apply(lambda x: 1 if 'complex' in x else 0) \n",
    "train_data\n",
    "print(train_data[:3])\n",
    "\n",
    "# en local \n",
    "def add_path_compressed_train(file):\n",
    "    return TRAIN_IMAGES_PATH  + file\n",
    "\n",
    "def add_path_test(file):\n",
    "    return TEST_IMAGES_PATH + file\n",
    "\n",
    "\n",
    "train_files= train_data.image.map(add_path_compressed_train).values\n",
    "print(train_files[:3])\n",
    "\n",
    "test_files= test_data.image.map(add_path_test).values\n",
    "print(test_files)\n",
    "\n",
    "labels = np.float32(train_data.loc[:, 'scab':'complex'].values)\n",
    "print(\"labels= \", labels[:3])\n",
    "\n",
    "print(\"shapes= \", train_files.shape, labels.shape,)"
   ]
  },
  {
   "cell_type": "code",
   "execution_count": 75,
   "metadata": {},
   "outputs": [
    {
     "data": {
      "text/plain": [
       "numpy.ndarray"
      ]
     },
     "execution_count": 75,
     "metadata": {},
     "output_type": "execute_result"
    }
   ],
   "source": [
    "type(train_files)"
   ]
  },
  {
   "cell_type": "code",
   "execution_count": 27,
   "metadata": {},
   "outputs": [],
   "source": [
    "def decode_image(filename,label=None,  image_size=(512, 512)):\n",
    "    bits = tf.io.read_file(filename)\n",
    "    image = tf.image.decode_jpeg(bits, channels=3)\n",
    "    image = tf.cast(image, tf.float32) / 255.0\n",
    "    image = tf.image.resize(image, image_size)\n",
    "    if label is None:\n",
    "        return image\n",
    "    else:\n",
    "        return image, label\n",
    "\n",
    "def data_augment(image, label=None):\n",
    "    image = tf.image.random_flip_left_right(image)\n",
    "    image = tf.image.random_flip_up_down(image)\n",
    "    \n",
    "    if label is None:\n",
    "        return image\n",
    "    else:\n",
    "        return image, label\n",
    "    \n",
    "def make_dataset(train_images, train_labels, valid_images, valid_labels, test_files, image_size,batch_size):\n",
    "    \n",
    "    train_dataset = (\n",
    "        tf.data.Dataset\n",
    "        .from_tensor_slices((train_images, train_labels))   \n",
    "        #.from_tensor_slices((train_images[:10], train_labels[:10]))   \n",
    "        .map(tf.autograph.experimental.do_not_convert(lambda x,y: decode_image(x,y, image_size)), num_parallel_calls=AUTO )           \n",
    "        #.map(decode_image, num_parallel_calls=AUTO)\n",
    "        .map(data_augment, num_parallel_calls=AUTO)\n",
    "        .repeat()\n",
    "        .shuffle(512)\n",
    "        .batch(batch_size)\n",
    "        .prefetch(AUTO)\n",
    "    )\n",
    "    valid_dataset = (\n",
    "        tf.data.Dataset\n",
    "        .from_tensor_slices((valid_images, valid_labels))\n",
    "        # .from_tensor_slices((valid_images[:2], valid_labels[:2]))\n",
    "        # .map(decode_image, num_parallel_calls=AUTO)\n",
    "        .map(tf.autograph.experimental.do_not_convert(lambda x,y: decode_image(x,y, image_size)), num_parallel_calls=AUTO )           \n",
    "        .batch(batch_size)\n",
    "        .cache()\n",
    "        .prefetch(AUTO)\n",
    "    )\n",
    "    test_dataset = (\n",
    "        tf.data.Dataset\n",
    "        .from_tensor_slices(test_files)\n",
    "        .map(tf.autograph.experimental.do_not_convert(lambda x: decode_image(x,None, image_size)), num_parallel_calls=AUTO )           \n",
    "        .batch(batch_size)\n",
    "    )\n",
    "    return train_dataset,valid_dataset,test_dataset\n",
    "\n",
    "\n",
    "        \n",
    "\n",
    "# def get_model(image_shape):\n",
    "#     # InRes3\n",
    "#     #Adding the final layers to the above base models where the actual classification is done in the dense layers\n",
    "#     InResNetV2= InceptionResNetV2(include_top=False, weights=\"imagenet\", \\\n",
    "#         input_tensor=None, input_shape=image_shape, pooling='avg') \n",
    "#     model_InResNet2 = Sequential()\n",
    "#     model_InResNet2.add(InResNetV2)\n",
    "#     model_InResNet2.add(Dense(5, activation=('sigmoid')))\n",
    "\n",
    "#     model_InResNet2.compile(optimizer = 'adam', loss = 'binary_crossentropy', metrics = ['accuracy'])\n",
    "#     model_InResNet2.summary()\n",
    "#     return model_InResNet2\n",
    "\n",
    "def get_model(image_shape):\n",
    "    # InRes3\n",
    "    #Adding the final layers to the above base models where the actual classification is done in the dense layers\n",
    "    InResNetV2= InceptionResNetV2(include_top=False, weights=\"imagenet\", \\\n",
    "        input_tensor=None, input_shape=image_shape, pooling='avg') \n",
    "    model_InResNet2 = Sequential()\n",
    "    model_InResNet2.add(InResNetV2)\n",
    "    model_InResNet2.add(Dense(5, activation=('sigmoid')))\n",
    "\n",
    "    model_InResNet2.compile(optimizer = 'adam', loss = 'binary_crossentropy', metrics = ['accuracy'])\n",
    "    model_InResNet2.summary()\n",
    "    return model_InResNet2\n",
    "\n",
    "\n",
    "\n",
    "def build_lrfn(lr_start=0.00001, lr_max=0.00005, \n",
    "               lr_min=0.00001, lr_rampup_epochs=5, \n",
    "               lr_sustain_epochs=0, lr_exp_decay=.8):\n",
    "    # lr_max = lr_max * strategy.num_replicas_in_sync\n",
    "\n",
    "    def lrfn(epoch):\n",
    "        if epoch < lr_rampup_epochs:\n",
    "            lr = (lr_max - lr_start) / lr_rampup_epochs * epoch + lr_start\n",
    "        elif epoch < lr_rampup_epochs + lr_sustain_epochs:\n",
    "            lr = lr_max\n",
    "        else:\n",
    "            lr = (lr_max - lr_min) *\\\n",
    "                 lr_exp_decay**(epoch - lr_rampup_epochs\\\n",
    "                                - lr_sustain_epochs) + lr_min\n",
    "        return lr\n",
    "    return lrfn   \n",
    "\n",
    "\n",
    "def train(model, train_dataset, valid_dataset,epochs, len_train,  batch_size, filenum):\n",
    "         \n",
    "    \n",
    "    # learning rate\n",
    "    lrfn = build_lrfn()\n",
    "    STEPS_PER_EPOCH = len_train // batch_size\n",
    "    # STEPS_PER_EPOCH = 10\n",
    "    lr_schedule = tf.keras.callbacks.LearningRateScheduler(lrfn, verbose=1)\n",
    "    \n",
    "    # Early Stopping\n",
    "    early_stop= EarlyStopping(monitor='val_accuracy',patience=5, mode='max' )\n",
    "    \n",
    "    # save the weights given the best val_loss\n",
    "    filepath='F:/Projet_computer_vision/bons_hdf5_plant/ResNet50-best-dataset-062021-'+str(filenum)+'.hdf5'\n",
    "    checkpoint = ModelCheckpoint(filepath, monitor='val_accuracy', verbose=1, save_best_only=True, mode='max')\n",
    "    # callbacks_list = [lr_schedule,checkpoint ]\n",
    "    callbacks_list = [lr_schedule,early_stop, checkpoint ]\n",
    "    \n",
    "    Network=model.fit(train_dataset, steps_per_epoch=STEPS_PER_EPOCH, verbose=1, \\\n",
    "                            validation_data=valid_dataset,callbacks=callbacks_list,epochs=epochs)\n",
    "    \n",
    "    return Network\n",
    "    \n",
    "    \n",
    "def validate(model, valid_dataset,len_valid,n):    # exactement : accuracy_score(valid_true_labels, np.round(valid_pred)) de sklearn\n",
    "   \n",
    "    # batch_size= 16\n",
    "    # transforme le dataset des labels de validation en numpy ndarray \n",
    "    def pre_validation(valid_dataset):\n",
    "\n",
    "        valid_true_labels=np.zeros((len_valid,5))\n",
    "\n",
    "        for i, x in enumerate(valid_dataset):           \n",
    "                for  j in range(16):\n",
    "                    if j + 16 * i  < len_valid:                       \n",
    "                        valid_true_labels[j+ 16 * i]= x[1][j]            \n",
    "                     # print(i)\n",
    "                    else:\n",
    "                        break;               \n",
    "\n",
    "        return valid_true_labels\n",
    "    \n",
    "    valid_true_labels=  pre_validation(valid_dataset)\n",
    "    \n",
    "    model = load_model(\"F:/Projet_computer_vision/bons_hdf5_plant/ResNet50-best-dataset-062021-\"+str(n)+\".hdf5\")\n",
    "    valid_pred = model.predict(valid_dataset)\n",
    "    \n",
    "    # c'est exactement : accuracy_score(valid_true_labels, np.round(valid_pred)) (from sklearn.metrics import accuracy_score)\n",
    "    accuracy= np.mean(np.all(valid_true_labels == np.round(valid_pred), axis=1))\n",
    "    \n",
    "    return accuracy\n",
    "\n",
    "# une autre manière pour calculer la validation accuracy qui donne le même résultat.\n",
    "def validate1(model, valid_dataset,len_valid,n): \n",
    "   \n",
    "    def pre_validation(valid_dataset):\n",
    "\n",
    "        valid_true_labels=np.zeros((len_valid,5))\n",
    "\n",
    "        for i, x in enumerate(valid_dataset):           \n",
    "                for  j in range(16):\n",
    "                    if j + 16 * i  < len_valid:\n",
    "                        \n",
    "                        valid_true_labels[j+ 16 * i]= x[1][j]            \n",
    "                    \n",
    "                    else:\n",
    "                        break;               \n",
    "\n",
    "        return valid_true_labels\n",
    "    \n",
    "    valid_true_labels=  pre_validation(valid_dataset)\n",
    "    \n",
    "    \n",
    "    valid_pred = model.predict(valid_dataset)\n",
    "    accuracy_score(valid_true_labels, np.round(valid_pred))\n",
    "    \n",
    "    return accuracy\n",
    "\n",
    "# fonction qui trace les 2 courbes loss et validation loss ainsi que l'accuracy et la validation accuracy\n",
    "def loss_accuracy_curves(Network) :\n",
    "    plt.subplot(121)\n",
    "    plt.plot(Network.history['loss'],label='Train')\n",
    "    plt.plot(Network.history['val_loss'],label='Validation')\n",
    "    plt.ylabel('Loss',fontsize=20)\n",
    "    plt.xlabel('epoch')\n",
    "    plt.legend(['Training', 'Validation'], loc='best')  # upper\n",
    "\n",
    "    plt.subplot(122)\n",
    "    plt.plot(Network.history['accuracy'],label='Train')\n",
    "    plt.plot(Network.history['val_accuracy'],label='Validation')\n",
    "    plt.ylabel('Accuracy',fontsize=20)\n",
    "    plt.xlabel('epoch')\n",
    "    plt.legend(['Training', 'Validation'], loc='best')  # upper\n",
    "    plt.tight_layout()\n",
    "\n",
    "    plt.show()\n",
    "    \n",
    "    "
   ]
  },
  {
   "cell_type": "code",
   "execution_count": 67,
   "metadata": {},
   "outputs": [
    {
     "data": {
      "text/plain": [
       "(18632,)"
      ]
     },
     "execution_count": 67,
     "metadata": {},
     "output_type": "execute_result"
    }
   ],
   "source": [
    "train_files.shape"
   ]
  },
  {
   "cell_type": "code",
   "execution_count": 70,
   "metadata": {},
   "outputs": [
    {
     "data": {
      "text/plain": [
       "(18632, 5)"
      ]
     },
     "execution_count": 70,
     "metadata": {},
     "output_type": "execute_result"
    }
   ],
   "source": [
    "labels.shape"
   ]
  },
  {
   "cell_type": "code",
   "execution_count": 56,
   "metadata": {
    "id": "FvHfvHsxqZwv"
   },
   "outputs": [
    {
     "name": "stdout",
     "output_type": "stream",
     "text": [
      "15837 2795\n",
      "Création des datasets train, validation et test\n",
      "Création du modèle à partir d'une Keras application (deep learning pre-trained models\n",
      "https://keras.io/api/applications/ \n",
      "Model: \"sequential_6\"\n",
      "_________________________________________________________________\n",
      "Layer (type)                 Output Shape              Param #   \n",
      "=================================================================\n",
      "inception_resnet_v2 (Functio (None, 1536)              54336736  \n",
      "_________________________________________________________________\n",
      "dense_6 (Dense)              (None, 5)                 7685      \n",
      "=================================================================\n",
      "Total params: 54,344,421\n",
      "Trainable params: 54,283,877\n",
      "Non-trainable params: 60,544\n",
      "_________________________________________________________________\n",
      "training\n",
      "Epoch 1/10\n",
      "\n",
      "Epoch 00001: LearningRateScheduler reducing learning rate to 1e-05.\n",
      "989/989 [==============================] - 2960s 3s/step - loss: 0.6075 - accuracy: 0.2251 - val_loss: 8864.2354 - val_accuracy: 0.5989\n",
      "Epoch 2/10\n",
      "\n",
      "Epoch 00002: LearningRateScheduler reducing learning rate to 1.8000000000000004e-05.\n",
      "989/989 [==============================] - 2745s 3s/step - loss: 0.3464 - accuracy: 0.5728 - val_loss: 9589.2744 - val_accuracy: 0.6229\n",
      "Epoch 3/10\n",
      "\n",
      "Epoch 00003: LearningRateScheduler reducing learning rate to 2.6000000000000002e-05.\n",
      "989/989 [==============================] - 2365s 2s/step - loss: 0.2993 - accuracy: 0.6304 - val_loss: 7417.6079 - val_accuracy: 0.6054\n",
      "Epoch 4/10\n",
      "\n",
      "Epoch 00004: LearningRateScheduler reducing learning rate to 3.4000000000000007e-05.\n",
      "989/989 [==============================] - 2402s 2s/step - loss: 0.2678 - accuracy: 0.6596 - val_loss: 5647.9644 - val_accuracy: 0.6605\n",
      "Epoch 5/10\n",
      "\n",
      "Epoch 00005: LearningRateScheduler reducing learning rate to 4.2000000000000004e-05.\n",
      "989/989 [==============================] - 2850s 3s/step - loss: 0.2454 - accuracy: 0.6814 - val_loss: 3689.3496 - val_accuracy: 0.6540\n",
      "Epoch 6/10\n",
      "\n",
      "Epoch 00006: LearningRateScheduler reducing learning rate to 5e-05.\n",
      "989/989 [==============================] - 2809s 3s/step - loss: 0.2215 - accuracy: 0.7033 - val_loss: 1763.9922 - val_accuracy: 0.7152\n",
      "Epoch 7/10\n",
      "\n",
      "Epoch 00007: LearningRateScheduler reducing learning rate to 4.2000000000000004e-05.\n",
      "989/989 [==============================] - 2912s 3s/step - loss: 0.1984 - accuracy: 0.7243 - val_loss: 653.8324 - val_accuracy: 0.7199\n",
      "Epoch 8/10\n",
      "\n",
      "Epoch 00008: LearningRateScheduler reducing learning rate to 3.5600000000000005e-05.\n",
      "989/989 [==============================] - 3348s 3s/step - loss: 0.1747 - accuracy: 0.7466 - val_loss: 613.2426 - val_accuracy: 0.6995\n",
      "Epoch 9/10\n",
      "\n",
      "Epoch 00009: LearningRateScheduler reducing learning rate to 3.0480000000000006e-05.\n",
      "989/989 [==============================] - 2969s 3s/step - loss: 0.1536 - accuracy: 0.7589 - val_loss: 456.3269 - val_accuracy: 0.7059\n",
      "Epoch 10/10\n",
      "\n",
      "Epoch 00010: LearningRateScheduler reducing learning rate to 2.6384000000000004e-05.\n",
      "989/989 [==============================] - 3058s 3s/step - loss: 0.1405 - accuracy: 0.7634 - val_loss: 323.1583 - val_accuracy: 0.7138\n",
      "validation\n",
      ">>>>>>>>>>>>>>>>>>>>>>>>>>> validation_accuracy 0.712\n",
      "durée du training (en secondes) = 28532.74645090103\n"
     ]
    }
   ],
   "source": [
    "image_size=(100, 100)\n",
    "AUTO = tf.data.experimental.AUTOTUNE\n",
    "batch_size =16\n",
    "\n",
    "from sklearn.utils import shuffle\n",
    "from sklearn.model_selection import train_test_split\n",
    "\n",
    "debut= time()\n",
    "\n",
    "train_images, valid_images, train_labels, valid_labels =\\\n",
    "        train_test_split(train_files, labels, test_size=0.15, random_state=2021)\n",
    "\n",
    "len_train = train_images.shape[0] \n",
    "len_valid=valid_images.shape[0]\n",
    "        \n",
    "print(len_train, len_valid)\n",
    "        \n",
    "print(\"Création des datasets train, validation et test\")\n",
    "train_dataset,valid_dataset,test_dataset= make_dataset(train_images, train_labels, valid_images, valid_labels, test_files,\\\n",
    "                                                               image_size, batch_size)\n",
    "                \n",
    "print(\"Création du modèle à partir d'une Keras application (deep learning pre-trained models\")\n",
    "print(\"https://keras.io/api/applications/ \")\n",
    "        \n",
    "image_shape = image_size + (3,) \n",
    "model= get_model(image_shape)\n",
    "        \n",
    "print(\"training\")\n",
    "# training du modèle et sauvegarde du meilleur modèle (max val_accuracy) rencontré lors des epochs (sauvegarde des poids)\n",
    "Network= train(model, train_dataset, valid_dataset,epochs=10, len_train=len_train, batch_size=16, filenum=1)\n",
    "\n",
    "\n",
    "\n",
    "# faire une prediction du validation set à partir du modèle et la comparer aux vrais labels\n",
    "# ça équivaut à un accuracy_score de sklearn.\n",
    "# attention : c'est pas équivalent au model.evaluate(valid_dataset) de keras, ça ne donne pas les mêmes résultats car \n",
    "# il s'agit d'une classification Multi-Class et multi-label.\n",
    "\n",
    "print(\"validation\")\n",
    "val_accuracy = validate(model, valid_dataset,len_valid)\n",
    "\n",
    "# Sauvegarde de la val_accuracy dans uen liste pour un calcul de moyenne et d'écart-type\n",
    "print('>>>>>>>>>>>>>>>>>>>>>>>>>>> validation_accuracy %.3f' % val_accuracy)\n",
    "\n",
    "duree_totale = time()- debut\n",
    "print(\"durée du training (en secondes) =\", duree_totale)"
   ]
  },
  {
   "cell_type": "code",
   "execution_count": 57,
   "metadata": {},
   "outputs": [
    {
     "data": {
      "text/plain": [
       "array([[9.60115135e-01, 3.03328037e-04, 9.00566578e-04, 1.23788118e-02,\n",
       "        8.18437338e-03],\n",
       "       [1.00664198e-02, 1.20529532e-03, 3.36247683e-03, 1.73284709e-02,\n",
       "        1.64461136e-03],\n",
       "       [1.39792889e-01, 9.37607408e-01, 4.02294754e-05, 3.13884616e-02,\n",
       "        1.20307803e-02],\n",
       "       ...,\n",
       "       [5.20948946e-01, 2.63401866e-03, 4.04312015e-02, 6.43036962e-01,\n",
       "        9.09491658e-01],\n",
       "       [5.99010587e-01, 4.83632088e-03, 1.10037625e-02, 3.88025045e-02,\n",
       "        2.77595043e-01],\n",
       "       [1.18404418e-01, 1.85294675e-06, 1.81166261e-01, 7.40766525e-04,\n",
       "        8.17588516e-05]], dtype=float32)"
      ]
     },
     "execution_count": 57,
     "metadata": {},
     "output_type": "execute_result"
    }
   ],
   "source": [
    "valid_pred = model.predict(valid_dataset)\n",
    "valid_pred"
   ]
  },
  {
   "cell_type": "code",
   "execution_count": 53,
   "metadata": {},
   "outputs": [
    {
     "name": "stdout",
     "output_type": "stream",
     "text": [
      "175/175 - 41s - loss: 0.7054 - accuracy: 0.1052\n",
      "loss = 0.7053700685501099\n",
      "accuracy = 0.10518783330917358\n"
     ]
    }
   ],
   "source": [
    "score=model.evaluate(valid_dataset, verbose=2)\n",
    "\n",
    "# Get the accuracu metric\n",
    "print(model.metrics_names[0],'=',score[0])\n",
    "print(model.metrics_names[1],'=',score[1])"
   ]
  },
  {
   "cell_type": "code",
   "execution_count": 61,
   "metadata": {},
   "outputs": [
    {
     "data": {
      "image/png": "[encoded data removed]",
      "text/plain": [
       "<Figure size 432x288 with 2 Axes>"
      ]
     },
     "metadata": {
      "needs_background": "light"
     },
     "output_type": "display_data"
    }
   ],
   "source": [
    "import matplotlib.pyplot as plt\n",
    "plt.subplot(121)\n",
    "plt.plot(Network.history['loss'],label='Train')\n",
    "plt.plot(Network.history['val_loss'],label='Validation')\n",
    "plt.ylabel('Loss',fontsize=20)\n",
    "plt.xlabel('epoch')\n",
    "plt.legend(['Training', 'Validation'], loc='best')  # upper\n",
    "\n",
    "plt.subplot(122)\n",
    "plt.plot(Network.history['accuracy'],label='Train')\n",
    "plt.plot(Network.history['val_accuracy'],label='Validation')\n",
    "plt.ylabel('Accuracy',fontsize=20)\n",
    "plt.xlabel('epoch')\n",
    "plt.legend(['Training', 'Validation'], loc='best')  # upper\n",
    "plt.tight_layout()\n",
    "\n",
    "plt.show()"
   ]
  },
  {
   "cell_type": "code",
   "execution_count": 62,
   "metadata": {},
   "outputs": [
    {
     "name": "stdout",
     "output_type": "stream",
     "text": [
      "(3, 5)\n",
      "[[8.5131550e-01 1.7064700e-01 1.9618869e-03 4.1543335e-02 1.7090198e-01]\n",
      " [2.8704047e-02 6.8578720e-03 8.7423905e-05 2.1155831e-01 8.9126456e-01]\n",
      " [2.3843750e-01 7.5708330e-03 1.6421080e-04 7.6737821e-01 3.4872270e-01]]\n"
     ]
    }
   ],
   "source": [
    "# 24052021\n",
    "Test_pred =model.predict(test_dataset)  \n",
    "print(Test_pred.shape) \n",
    "print(Test_pred) "
   ]
  },
  {
   "cell_type": "code",
   "execution_count": 63,
   "metadata": {},
   "outputs": [
    {
     "data": {
      "text/plain": [
       "array([[1., 0., 0., 0., 0.],\n",
       "       [0., 0., 0., 0., 1.],\n",
       "       [0., 0., 0., 1., 0.]], dtype=float32)"
      ]
     },
     "execution_count": 63,
     "metadata": {},
     "output_type": "execute_result"
    }
   ],
   "source": [
    "Test_pred_round=Test_pred.round()\n",
    "Test_pred_round "
   ]
  },
  {
   "cell_type": "code",
   "execution_count": 64,
   "metadata": {},
   "outputs": [
    {
     "data": {
      "text/html": [
       "<div>\n",
       "<style scoped>\n",
       "    .dataframe tbody tr th:only-of-type {\n",
       "        vertical-align: middle;\n",
       "    }\n",
       "\n",
       "    .dataframe tbody tr th {\n",
       "        vertical-align: top;\n",
       "    }\n",
       "\n",
       "    .dataframe thead th {\n",
       "        text-align: right;\n",
       "    }\n",
       "</style>\n",
       "<table border=\"1\" class=\"dataframe\">\n",
       "  <thead>\n",
       "    <tr style=\"text-align: right;\">\n",
       "      <th></th>\n",
       "      <th>scab</th>\n",
       "      <th>rust</th>\n",
       "      <th>powdery_mildew</th>\n",
       "      <th>frog_eye_leaf_spot</th>\n",
       "      <th>complex</th>\n",
       "    </tr>\n",
       "  </thead>\n",
       "  <tbody>\n",
       "    <tr>\n",
       "      <th>0</th>\n",
       "      <td>1.0</td>\n",
       "      <td>0.0</td>\n",
       "      <td>0.0</td>\n",
       "      <td>0.0</td>\n",
       "      <td>0.0</td>\n",
       "    </tr>\n",
       "    <tr>\n",
       "      <th>1</th>\n",
       "      <td>0.0</td>\n",
       "      <td>0.0</td>\n",
       "      <td>0.0</td>\n",
       "      <td>0.0</td>\n",
       "      <td>1.0</td>\n",
       "    </tr>\n",
       "    <tr>\n",
       "      <th>2</th>\n",
       "      <td>0.0</td>\n",
       "      <td>0.0</td>\n",
       "      <td>0.0</td>\n",
       "      <td>1.0</td>\n",
       "      <td>0.0</td>\n",
       "    </tr>\n",
       "  </tbody>\n",
       "</table>\n",
       "</div>"
      ],
      "text/plain": [
       "   scab  rust  powdery_mildew  frog_eye_leaf_spot  complex\n",
       "0   1.0   0.0             0.0                 0.0      0.0\n",
       "1   0.0   0.0             0.0                 0.0      1.0\n",
       "2   0.0   0.0             0.0                 1.0      0.0"
      ]
     },
     "execution_count": 64,
     "metadata": {},
     "output_type": "execute_result"
    }
   ],
   "source": [
    "df_test=pd.DataFrame(Test_pred_round, columns=['scab','rust','powdery_mildew','frog_eye_leaf_spot','complex'])\n",
    "df_test"
   ]
  },
  {
   "cell_type": "code",
   "execution_count": 65,
   "metadata": {},
   "outputs": [
    {
     "name": "stdout",
     "output_type": "stream",
     "text": [
      "                  image              labels\n",
      "0  85f8cb619c66b863.jpg                scab\n",
      "1  ad8770db05586b59.jpg             complex\n",
      "2  c7b03e718489f3ca.jpg  frog_eye_leaf_spot\n"
     ]
    }
   ],
   "source": [
    "df_test['labels'] = df_test['scab'].apply(lambda x:'scab ' if x==1 else \"\") \\\n",
    "                        +  df_test['rust'].apply(lambda x:'rust ' if x==1 else \"\")  \\\n",
    "                        +   df_test['powdery_mildew'].apply(lambda x:'powdery_mildew ' if x==1 else \"\")  \\\n",
    "            + df_test['frog_eye_leaf_spot'].apply(lambda x:'frog_eye_leaf_spot ' if x==1 else \"\") \\\n",
    "            + df_test['complex'].apply(lambda x:'complex ' if x==1 else \"\") \n",
    "        \n",
    "df_test['labels']= df_test['labels'].str.strip()\n",
    "# print(df_test)\n",
    "# df_test.drop(['healthy','scab','rust','powdery_mildew','frog_eye_leaf_spot','complex'], axis = 1, inplace = True)\n",
    "\n",
    "test_data['labels'] = df_test['labels']\n",
    "print(test_data)"
   ]
  },
  {
   "cell_type": "code",
   "execution_count": 80,
   "metadata": {},
   "outputs": [],
   "source": [
    "test_data.to_csv('submission.csv',index=False)"
   ]
  },
  {
   "cell_type": "code",
   "execution_count": null,
   "metadata": {},
   "outputs": [],
   "source": []
  }
 ],
 "metadata": {
  "accelerator": "GPU",
  "colab": {
   "collapsed_sections": [],
   "name": "Plant_19052021_dataset.ipynb",
   "provenance": []
  },
  "kernelspec": {
   "display_name": "Python 3",
   "language": "python",
   "name": "python3"
  },
  "language_info": {
   "codemirror_mode": {
    "name": "ipython",
    "version": 3
   },
   "file_extension": ".py",
   "mimetype": "text/x-python",
   "name": "python",
   "nbconvert_exporter": "python",
   "pygments_lexer": "ipython3",
   "version": "3.8.5"
  }
 },
 "nbformat": 4,
 "nbformat_minor": 1
}
