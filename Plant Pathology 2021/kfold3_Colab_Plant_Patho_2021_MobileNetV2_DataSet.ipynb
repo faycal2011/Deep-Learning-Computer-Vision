{
  "nbformat": 4,
  "nbformat_minor": 0,
  "metadata": {
    "colab": {
      "name": "kfold3_Colab_Plant_Patho_2021_MobileNetV2_DataSet.ipynb",
      "provenance": [],
      "collapsed_sections": []
    },
    "kernelspec": {
      "name": "python3",
      "display_name": "Python 3"
    },
    "language_info": {
      "name": "python"
    }
  },
  "cells": [
    {
      "cell_type": "code",
      "metadata": {
        "colab": {
          "base_uri": "https://localhost:8080/"
        },
        "id": "1ny93_6jM507",
        "outputId": "da5167f3-9947-4a49-a350-dc96f346a6bd"
      },
      "source": [
        "from google.colab import drive\n",
        "drive.mount('/content/drive')"
      ],
      "execution_count": null,
      "outputs": [
        {
          "output_type": "stream",
          "text": [
            "Mounted at /content/drive\n"
          ],
          "name": "stdout"
        }
      ]
    },
    {
      "cell_type": "code",
      "metadata": {
        "colab": {
          "base_uri": "https://localhost:8080/"
        },
        "id": "1zOcY4iOMx0u",
        "outputId": "9c897ca1-2ce2-4f71-8161-d57e504fe4ee"
      },
      "source": [
        "cd drive/My Drive/'Colab Notebooks'/Plant"
      ],
      "execution_count": null,
      "outputs": [
        {
          "output_type": "stream",
          "text": [
            "/content/drive/My Drive/Colab Notebooks/Plant\n"
          ],
          "name": "stdout"
        }
      ]
    },
    {
      "cell_type": "code",
      "metadata": {
        "colab": {
          "base_uri": "https://localhost:8080/",
          "height": 35
        },
        "id": "reqYdDkLMl_4",
        "outputId": "a257dd71-f7f2-4f59-e71e-dc46ac369043"
      },
      "source": [
        "pwd"
      ],
      "execution_count": null,
      "outputs": [
        {
          "output_type": "execute_result",
          "data": {
            "application/vnd.google.colaboratory.intrinsic+json": {
              "type": "string"
            },
            "text/plain": [
              "'/content/drive/My Drive/Colab Notebooks/Plant'"
            ]
          },
          "metadata": {
            "tags": []
          },
          "execution_count": 9
        }
      ]
    },
    {
      "cell_type": "code",
      "metadata": {
        "id": "Sm6F-yu5NIop"
      },
      "source": [
        "!mkdir train_images"
      ],
      "execution_count": null,
      "outputs": []
    },
    {
      "cell_type": "code",
      "metadata": {
        "id": "GhiooaU7NLZc"
      },
      "source": [
        "!unrar x train_images_comp.rar train_images "
      ],
      "execution_count": null,
      "outputs": []
    },
    {
      "cell_type": "code",
      "metadata": {
        "colab": {
          "base_uri": "https://localhost:8080/"
        },
        "id": "u-PW_56GNbp-",
        "outputId": "66bafea8-57ba-46c6-921f-9bccdeb98fbf"
      },
      "source": [
        "ls -1 /content/drive/MyDrive/Colab\\ Notebooks/Plant/train_images/ | wc -l"
      ],
      "execution_count": null,
      "outputs": [
        {
          "output_type": "stream",
          "text": [
            "18632\n"
          ],
          "name": "stdout"
        }
      ]
    },
    {
      "cell_type": "code",
      "metadata": {
        "id": "0aKtt2rEpGvz",
        "colab": {
          "base_uri": "https://localhost:8080/"
        },
        "outputId": "48c71c25-0a36-4297-a49f-ebd40cd5a61f"
      },
      "source": [
        "from google.colab import drive\n",
        "drive.mount('/content/drive')"
      ],
      "execution_count": null,
      "outputs": [
        {
          "output_type": "stream",
          "text": [
            "Go to this URL in a browser: https://accounts.google.com/o/oauth2/auth?client_id=947318989803-6bn6qk8qdgf4n4g3pfee6491hc0brc4i.apps.googleusercontent.com&redirect_uri=urn%3aietf%3awg%3aoauth%3a2.0%3aoob&scope=email%20https%3a%2f%2fwww.googleapis.com%2fauth%2fdocs.test%20https%3a%2f%2fwww.googleapis.com%2fauth%2fdrive%20https%3a%2f%2fwww.googleapis.com%2fauth%2fdrive.photos.readonly%20https%3a%2f%2fwww.googleapis.com%2fauth%2fpeopleapi.readonly%20https%3a%2f%2fwww.googleapis.com%2fauth%2fdrive.activity.readonly%20https%3a%2f%2fwww.googleapis.com%2fauth%2fexperimentsandconfigs%20https%3a%2f%2fwww.googleapis.com%2fauth%2fphotos.native&response_type=code\n",
            "\n",
            "Enter your authorization code:\n",
            "4/1AY0e-g5HdBLD4VWdoYMTcZhDQHYWBmD26rsrIhNw2l-zYYNh8heajiDWrEg\n",
            "Mounted at /content/drive\n"
          ],
          "name": "stdout"
        }
      ]
    },
    {
      "cell_type": "code",
      "metadata": {
        "id": "zpOSZ4IRIfEL"
      },
      "source": [
        "import matplotlib.pyplot as plt\n",
        "import numpy as np\n",
        "from numpy import mean\n",
        "from numpy import std\n",
        "import pandas as pd\n",
        "import cv2\n",
        "from tensorflow.keras import layers\n",
        "from keras.callbacks import ModelCheckpoint\n",
        "import tensorflow as tf\n",
        "from tensorflow import keras\n",
        "\n",
        "from tensorflow.keras.models import Sequential\n",
        "from tensorflow.keras.applications import MobileNetV2\n",
        "from tensorflow.keras.layers import Dense\n",
        "\n",
        "from sklearn.datasets import make_multilabel_classification\n",
        "from sklearn.model_selection import RepeatedKFold\n",
        "# from keras.models import Sequential\n",
        "# from keras.layers import Dense\n",
        "from sklearn.metrics import accuracy_score\n",
        "from time import time\n",
        "\n",
        "from tensorflow.keras.models import load_model\n",
        "from tensorflow.keras.callbacks import EarlyStopping\n",
        "\n"
      ],
      "execution_count": null,
      "outputs": []
    },
    {
      "cell_type": "code",
      "metadata": {
        "id": "VdjKz3e6InEQ",
        "colab": {
          "base_uri": "https://localhost:8080/"
        },
        "outputId": "1e2a861d-ada3-4acb-c4ae-1165f42c320d"
      },
      "source": [
        "# load dataset\n",
        "\n",
        "# sur colab\n",
        "# TRAIN_IMAGES_PATH = \"F:/Projet_computer_vision/plant-pathology-2021-fgvc8/train_images/\"\n",
        "\n",
        "# en local\n",
        "TRAIN_IMAGES_PATH = \"drive/MyDrive/Colab Notebooks/Plant/train_images/\"\n",
        "TEST_IMAGES_PATH = \"drive/MyDrive/Colab Notebooks/Plant/test_images/\"\n",
        "\n",
        "# sur colab\n",
        "TRAIN_PATH = \"drive/MyDrive/Colab Notebooks/Plant/train_comp.csv\"\n",
        "SUB_PATH = \"drive/MyDrive/Colab Notebooks/Plant/sample_submission.csv\"\n",
        "\n",
        "sub = pd.read_csv(SUB_PATH)\n",
        "# test_data = pd.read_csv(TEST_PATH)\n",
        "train_data = pd.read_csv(TRAIN_PATH)\n",
        "# print(train_data[:5])\n",
        "test_data = pd.read_csv(SUB_PATH)\n",
        "# print(test_data)\n",
        "\n",
        "# bon 3\n",
        "classes=set()\n",
        "for v in train_data[\"labels\"].values:\n",
        "    classes.update(set(v.split()))\n",
        "print(\"classes= \", classes)\n",
        "\n",
        "#On peut associer les images des feuilles à 5 classes possibles:\n",
        "#'complex', 'frog_eye_leaf_spot', 'powdery_mildew', 'rust', 'scab'\n",
        "# healthy , quand aucune de ces classes n'est là.\n",
        "\n",
        "# train_data['healthy']=train_data['labels'].apply(lambda x: 1 if 'healthy' in x else 0) \n",
        "train_data['scab']=train_data['labels'].apply(lambda x: 1 if 'scab' in x else 0) \n",
        "train_data['rust']=train_data['labels'].apply(lambda x: 1 if 'rust' in x else 0) \n",
        "train_data['powdery_mildew']=train_data['labels'].apply(lambda x: 1 if 'powdery_mildew' in x else 0) \n",
        "train_data['frog_eye_leaf_spot']=train_data['labels'].apply(lambda x: 1 if 'frog_eye_leaf_spot' in x else 0) \n",
        "train_data['complex']=train_data['labels'].apply(lambda x: 1 if 'complex' in x else 0) \n",
        "train_data\n",
        "print(train_data[:3])\n",
        "\n",
        "# en local \n",
        "def add_path_compressed_train(file):\n",
        "    return TRAIN_IMAGES_PATH  + file\n",
        "\n",
        "def add_path_test(file):\n",
        "    return TEST_IMAGES_PATH + file\n",
        "\n",
        "\n",
        "train_files= train_data.image.map(add_path_compressed_train).values\n",
        "print(train_files[:3])\n",
        "\n",
        "test_files= test_data.image.map(add_path_test).values\n",
        "print(test_files)\n",
        "\n",
        "labels = np.float32(train_data.loc[:, 'scab':'complex'].values)\n",
        "print(\"labels= \", labels[:3])\n",
        "\n",
        "print(\"shapes= \", train_files.shape, labels.shape,)"
      ],
      "execution_count": null,
      "outputs": [
        {
          "output_type": "stream",
          "text": [
            "classes=  {'healthy', 'scab', 'frog_eye_leaf_spot', 'rust', 'complex', 'powdery_mildew'}\n",
            "                             image  ... complex\n",
            "0  Compressed_800113bb65efe69e.jpg  ...       0\n",
            "1  Compressed_8002cb321f8bfcdf.jpg  ...       1\n",
            "2  Compressed_80070f7fb5e2ccaa.jpg  ...       0\n",
            "\n",
            "[3 rows x 7 columns]\n",
            "['drive/MyDrive/Colab Notebooks/Plant/train_images/Compressed_800113bb65efe69e.jpg'\n",
            " 'drive/MyDrive/Colab Notebooks/Plant/train_images/Compressed_8002cb321f8bfcdf.jpg'\n",
            " 'drive/MyDrive/Colab Notebooks/Plant/train_images/Compressed_80070f7fb5e2ccaa.jpg']\n",
            "['drive/MyDrive/Colab Notebooks/Plant/test_images/85f8cb619c66b863.jpg'\n",
            " 'drive/MyDrive/Colab Notebooks/Plant/test_images/ad8770db05586b59.jpg'\n",
            " 'drive/MyDrive/Colab Notebooks/Plant/test_images/c7b03e718489f3ca.jpg']\n",
            "labels=  [[0. 0. 0. 0. 0.]\n",
            " [1. 0. 0. 1. 1.]\n",
            " [1. 0. 0. 0. 0.]]\n",
            "shapes=  (18632,) (18632, 5)\n"
          ],
          "name": "stdout"
        }
      ]
    },
    {
      "cell_type": "code",
      "metadata": {
        "id": "gnvA6tdnI2Ln"
      },
      "source": [
        "def decode_image(filename,label=None,  image_size=(512, 512)):\n",
        "    bits = tf.io.read_file(filename)\n",
        "    image = tf.image.decode_jpeg(bits, channels=3)\n",
        "    image = tf.cast(image, tf.float32) / 255.0\n",
        "    image = tf.image.resize(image, image_size)\n",
        "    if label is None:\n",
        "        return image\n",
        "    else:\n",
        "        return image, label\n",
        "\n",
        "def data_augment(image, label=None):\n",
        "    image = tf.image.random_flip_left_right(image)\n",
        "    image = tf.image.random_flip_up_down(image)\n",
        "    \n",
        "    if label is None:\n",
        "        return image\n",
        "    else:\n",
        "        return image, label\n",
        "    \n",
        "def make_dataset(train_images, train_labels, valid_images, valid_labels, test_files, image_size,batch_size):\n",
        "    \n",
        "    train_dataset = (\n",
        "        tf.data.Dataset\n",
        "        .from_tensor_slices((train_images, train_labels))   \n",
        "        #.from_tensor_slices((train_images[:10], train_labels[:10]))   \n",
        "        .map(tf.autograph.experimental.do_not_convert(lambda x,y: decode_image(x,y, image_size)), num_parallel_calls=AUTO )           \n",
        "        #.map(decode_image, num_parallel_calls=AUTO)\n",
        "        .map(data_augment, num_parallel_calls=AUTO)\n",
        "        .repeat()\n",
        "        .shuffle(512)\n",
        "        .batch(batch_size)\n",
        "        .prefetch(AUTO)\n",
        "    )\n",
        "    valid_dataset = (\n",
        "        tf.data.Dataset\n",
        "        .from_tensor_slices((valid_images, valid_labels))\n",
        "        # .from_tensor_slices((valid_images[:2], valid_labels[:2]))\n",
        "        # .map(decode_image, num_parallel_calls=AUTO)\n",
        "        .map(tf.autograph.experimental.do_not_convert(lambda x,y: decode_image(x,y, image_size)), num_parallel_calls=AUTO )           \n",
        "        .batch(batch_size)\n",
        "        .cache()\n",
        "        .prefetch(AUTO)\n",
        "    )\n",
        "    test_dataset = (\n",
        "        tf.data.Dataset\n",
        "        .from_tensor_slices(test_files)\n",
        "        .map(tf.autograph.experimental.do_not_convert(lambda x: decode_image(x,None, image_size)), num_parallel_calls=AUTO )           \n",
        "        .batch(batch_size)\n",
        "    )\n",
        "    return train_dataset,valid_dataset,test_dataset\n",
        "\n",
        "\n",
        "        \n",
        "\n",
        "def get_model(image_shape):\n",
        "    # MobileNetV2\n",
        "    #Adding the final layers to the above base models where the actual classification is done in the dense layers\n",
        "    mobilenetV2= MobileNetV2(include_top=False, weights=\"imagenet\", \\\n",
        "        input_tensor=None, input_shape=image_shape, pooling='avg') \n",
        "    model_MobileNetV2 = Sequential()\n",
        "    model_MobileNetV2.add(mobilenetV2)\n",
        "    model_MobileNetV2.add(Dense(5, activation=('sigmoid')))\n",
        "\n",
        "    model_MobileNetV2.compile(optimizer = 'adam', loss = 'binary_crossentropy', metrics = ['accuracy'])\n",
        "    model_MobileNetV2.summary()\n",
        "    return model_MobileNetV2\n",
        "\n",
        "\n",
        "def build_lrfn(lr_start=0.00001, lr_max=0.00005, \n",
        "               lr_min=0.00001, lr_rampup_epochs=5, \n",
        "               lr_sustain_epochs=0, lr_exp_decay=.8):\n",
        "    # lr_max = lr_max * strategy.num_replicas_in_sync\n",
        "\n",
        "    def lrfn(epoch):\n",
        "        if epoch < lr_rampup_epochs:\n",
        "            lr = (lr_max - lr_start) / lr_rampup_epochs * epoch + lr_start\n",
        "        elif epoch < lr_rampup_epochs + lr_sustain_epochs:\n",
        "            lr = lr_max\n",
        "        else:\n",
        "            lr = (lr_max - lr_min) *\\\n",
        "                 lr_exp_decay**(epoch - lr_rampup_epochs\\\n",
        "                                - lr_sustain_epochs) + lr_min\n",
        "        return lr\n",
        "    return lrfn   \n",
        "\n",
        "\n",
        "def train(model, train_dataset, valid_dataset,epochs, len_train,  batch_size, filenum):\n",
        "         \n",
        "    \n",
        "    # learning rate\n",
        "    lrfn = build_lrfn()\n",
        "    STEPS_PER_EPOCH = len_train // batch_size\n",
        "    # STEPS_PER_EPOCH = 10\n",
        "    lr_schedule = tf.keras.callbacks.LearningRateScheduler(lrfn, verbose=1)\n",
        "    \n",
        "    # Early Stopping\n",
        "    early_stop= EarlyStopping(monitor='val_accuracy',patience=5, mode='max' )\n",
        "    \n",
        "    # save the weights given the best val_loss\n",
        "    filepath='drive/MyDrive/Colab Notebooks/Plant/MobileNetV2-best-dataset-062021-'+str(filenum)+'.hdf5'\n",
        "    checkpoint = ModelCheckpoint(filepath, monitor='val_accuracy', verbose=1, save_best_only=True, mode='max')\n",
        "    # callbacks_list = [lr_schedule,checkpoint ]\n",
        "    callbacks_list = [lr_schedule,early_stop, checkpoint ]\n",
        "    \n",
        "    Network=model.fit(train_dataset, steps_per_epoch=STEPS_PER_EPOCH, verbose=1, \\\n",
        "                            validation_data=valid_dataset,callbacks=callbacks_list,epochs=epochs)\n",
        "    \n",
        "    return Network\n",
        "    \n",
        "    \n",
        "def validate(model, valid_dataset,len_valid,n):    # exactement : accuracy_score(valid_true_labels, np.round(valid_pred)) de sklearn\n",
        "   \n",
        "    # batch_size= 16\n",
        "    # transforme le dataset des labels de validation en numpy ndarray \n",
        "    def pre_validation(valid_dataset):\n",
        "\n",
        "        valid_true_labels=np.zeros((len_valid,5))\n",
        "\n",
        "        for i, x in enumerate(valid_dataset):           \n",
        "                for  j in range(16):\n",
        "                    if j + 16 * i  < len_valid:                       \n",
        "                        valid_true_labels[j+ 16 * i]= x[1][j]            \n",
        "                     # print(i)\n",
        "                    else:\n",
        "                        break;               \n",
        "\n",
        "        return valid_true_labels\n",
        "    \n",
        "    valid_true_labels=  pre_validation(valid_dataset)\n",
        "    \n",
        "    model = load_model(\"drive/MyDrive/Colab Notebooks/Plant/MobileNetV2-best-dataset-062021-\"+str(n)+\".hdf5\")\n",
        "    valid_pred = model.predict(valid_dataset)\n",
        "    \n",
        "    # c'est exactement : accuracy_score(valid_true_labels, np.round(valid_pred)) (from sklearn.metrics import accuracy_score)\n",
        "    accuracy= np.mean(np.all(valid_true_labels == np.round(valid_pred), axis=1))\n",
        "    \n",
        "    return accuracy\n",
        "\n",
        "# une autre manière pour calculer la validation accuracy qui donne le même résultat.\n",
        "def validate1(model, valid_dataset,len_valid,n): \n",
        "   \n",
        "    def pre_validation(valid_dataset):\n",
        "\n",
        "        valid_true_labels=np.zeros((len_valid,5))\n",
        "\n",
        "        for i, x in enumerate(valid_dataset):           \n",
        "                for  j in range(16):\n",
        "                    if j + 16 * i  < len_valid:\n",
        "                        \n",
        "                        valid_true_labels[j+ 16 * i]= x[1][j]            \n",
        "                    \n",
        "                    else:\n",
        "                        break;               \n",
        "\n",
        "        return valid_true_labels\n",
        "    \n",
        "    valid_true_labels=  pre_validation(valid_dataset)\n",
        "    \n",
        "    \n",
        "    valid_pred = model.predict(valid_dataset)\n",
        "    accuracy_score(valid_true_labels, np.round(valid_pred))\n",
        "    \n",
        "    return accuracy\n",
        "\n",
        "# fonction qui trace les 2 courbes loss et validation loss ainsi que l'accuracy et la validation accuracy\n",
        "def loss_accuracy_curves(Network) :\n",
        "    plt.subplot(121)\n",
        "    plt.plot(Network.history['loss'],label='Train')\n",
        "    plt.plot(Network.history['val_loss'],label='Validation')\n",
        "    plt.ylabel('Loss',fontsize=20)\n",
        "    plt.xlabel('epoch')\n",
        "    plt.legend(['Training', 'Validation'], loc='best')  # upper\n",
        "\n",
        "    plt.subplot(122)\n",
        "    plt.plot(Network.history['accuracy'],label='Train')\n",
        "    plt.plot(Network.history['val_accuracy'],label='Validation')\n",
        "    plt.ylabel('Accuracy',fontsize=20)\n",
        "    plt.xlabel('epoch')\n",
        "    plt.legend(['Training', 'Validation'], loc='best')  # upper\n",
        "    plt.tight_layout()\n",
        "\n",
        "    plt.show()\n",
        "    \n",
        "    "
      ],
      "execution_count": null,
      "outputs": []
    },
    {
      "cell_type": "code",
      "metadata": {
        "id": "TszvlbiaI3vQ",
        "colab": {
          "base_uri": "https://localhost:8080/",
          "height": 1000
        },
        "outputId": "e968b20a-2b93-42de-9ccc-054194bc379d"
      },
      "source": [
        "image_size=(100, 100)\n",
        "AUTO = tf.data.experimental.AUTOTUNE\n",
        "batch_size =16\n",
        "\n",
        "X = train_files   # fichiers des images des feuilles (18 632)\n",
        "y = labels     # dataframes des 5 colonnes (1 ou 0) des pathologies\n",
        "cv = RepeatedKFold(n_splits=3, n_repeats=1, random_state=1)\n",
        "\n",
        "debut= time()\n",
        "\n",
        "def evaluate_model_plant_patho(X,y):\n",
        "    n=1\n",
        "    list_val_accuracy=[]\n",
        "    for train_ix, test_ix in cv.split(X):\n",
        "        \n",
        "        print(\"Split des données entre train set et validation set en utlisant la 3-fold cross validation \")\n",
        "        train_images, valid_images = X[train_ix], X[test_ix]\n",
        "        train_labels, valid_labels = y[train_ix], y[test_ix]\n",
        "        \n",
        "        print(train_images.shape,  train_labels.shape)  # 12 421 ou 12 422\n",
        "        print(valid_images.shape, valid_labels.shape) # len_valid= len(train_data) // 3  (6 210)  \n",
        "                                                    # ou len_valid= len(train_data) // 3 + 1  (6 211)\n",
        "\n",
        "        \n",
        "        len_train = train_images.shape[0] \n",
        "        len_valid=valid_images.shape[0]\n",
        "        \n",
        "        print(len_train, len_valid)\n",
        "        \n",
        "        print(\"\\nCréation des datasets train, validation et test\")\n",
        "        train_dataset,valid_dataset,test_dataset= make_dataset(train_images, train_labels, valid_images, valid_labels, test_files,\\\n",
        "                                                               image_size, batch_size)\n",
        "        \n",
        "        \n",
        "        \n",
        "        print(\"\\nCréation du modèle à partir d'une Keras application (deep learning pre-trained models\")\n",
        "        print(\"https://keras.io/api/applications/ \")\n",
        "        \n",
        "        image_shape = image_size + (3,) \n",
        "        model= get_model(image_shape)\n",
        "        \n",
        "        print(\"\\ntraining\")\n",
        "        # training du modèle et sauvegarde du meilleur modèle (max val_accuracy) rencontré lors des epochs (sauvegarde des poids)\n",
        "        Network = train(model, train_dataset, valid_dataset,epochs=15, len_train=len_train, batch_size=16, filenum=n)\n",
        "         \n",
        "                 \n",
        "        \n",
        "        # faire une prediction du validation set à partir du modèle et la comparer aux vrais labels\n",
        "        # ça équivaut à un accuracy_score de sklearn.\n",
        "        # attention : c'est pas équivalent au model.evaluate(valid_dataset) de keras, ça ne donne pas les mêmes résultats car \n",
        "        # il s'agit d'une classification Multi-Class et multi-label.\n",
        "        \n",
        "        print(\"\\nvalidation\")\n",
        "        val_accuracy = validate(model, valid_dataset,len_valid,n)\n",
        "        \n",
        "        \n",
        "        # courbes de loss / validation loss et courbe d'accuracy / validation accuracy\n",
        "        loss_accuracy_curves(Network)   \n",
        "        \n",
        "        # Sauvegarde de la val_accuracy dans uen liste pour un calcul de moyenne et d'écart-type\n",
        "        print('>>>>>>>>>>>>>>>>>>>>>>>>>>> validation_accuracy %.3f' % val_accuracy)\n",
        "        list_val_accuracy.append(val_accuracy)\n",
        "        \n",
        "        print(\"filenum= \",n)\n",
        "        n +=1 \n",
        "        \n",
        "        \n",
        "        # break;\n",
        "    return list_val_accuracy\n",
        "\n",
        "\n",
        "\n",
        "\n",
        "list_val_accuracy= evaluate_model_plant_patho(X,y)\n",
        "duree_totale = time()- debut\n",
        "print(\"durée du training avec 3-fold cross-validation  (en secondes) =\", duree_totale)\n",
        "print('Validation Accuracy: moyenne %.3f ecart-type(%.3f)' % (mean(list_val_accuracy), std(list_val_accuracy)))   \n"
      ],
      "execution_count": null,
      "outputs": [
        {
          "output_type": "stream",
          "text": [
            "Split des données entre train set et validation set en utlisant la 3-fold cross validation \n",
            "(12421,) (12421, 5)\n",
            "(6211,) (6211, 5)\n",
            "12421 6211\n",
            "\n",
            "Création des datasets train, validation et test\n",
            "\n",
            "Création du modèle à partir d'une Keras application (deep learning pre-trained models\n",
            "https://keras.io/api/applications/ \n",
            "WARNING:tensorflow:`input_shape` is undefined or non-square, or `rows` is not in [96, 128, 160, 192, 224]. Weights for input shape (224, 224) will be loaded as the default.\n",
            "Downloading data from https://storage.googleapis.com/tensorflow/keras-applications/mobilenet_v2/mobilenet_v2_weights_tf_dim_ordering_tf_kernels_1.0_224_no_top.h5\n",
            "9412608/9406464 [==============================] - 0s 0us/step\n",
            "Model: \"sequential\"\n",
            "_________________________________________________________________\n",
            "Layer (type)                 Output Shape              Param #   \n",
            "=================================================================\n",
            "mobilenetv2_1.00_224 (Functi (None, 1280)              2257984   \n",
            "_________________________________________________________________\n",
            "dense (Dense)                (None, 5)                 6405      \n",
            "=================================================================\n",
            "Total params: 2,264,389\n",
            "Trainable params: 2,230,277\n",
            "Non-trainable params: 34,112\n",
            "_________________________________________________________________\n",
            "\n",
            "training\n",
            "Epoch 1/15\n",
            "\n",
            "Epoch 00001: LearningRateScheduler reducing learning rate to 1e-05.\n",
            "776/776 [==============================] - 3556s 4s/step - loss: 0.4433 - accuracy: 0.4538 - val_loss: 0.5002 - val_accuracy: 0.5163\n",
            "\n",
            "Epoch 00001: val_accuracy improved from -inf to 0.51634, saving model to drive/MyDrive/Colab Notebooks/Plant/MobileNetV2-best-dataset-062021-1.hdf5\n"
          ],
          "name": "stdout"
        },
        {
          "output_type": "stream",
          "text": [
            "/usr/local/lib/python3.7/dist-packages/tensorflow/python/keras/utils/generic_utils.py:497: CustomMaskWarning: Custom mask layers require a config and must override get_config. When loading, the custom mask layer must be passed to the custom_objects argument.\n",
            "  category=CustomMaskWarning)\n"
          ],
          "name": "stderr"
        },
        {
          "output_type": "stream",
          "text": [
            "Epoch 2/15\n",
            "\n",
            "Epoch 00002: LearningRateScheduler reducing learning rate to 1.8000000000000004e-05.\n",
            "776/776 [==============================] - 1398s 2s/step - loss: 0.3332 - accuracy: 0.6157 - val_loss: 0.3484 - val_accuracy: 0.6302\n",
            "\n",
            "Epoch 00002: val_accuracy improved from 0.51634 to 0.63017, saving model to drive/MyDrive/Colab Notebooks/Plant/MobileNetV2-best-dataset-062021-1.hdf5\n",
            "Epoch 3/15\n",
            "\n",
            "Epoch 00003: LearningRateScheduler reducing learning rate to 2.6000000000000002e-05.\n",
            "776/776 [==============================] - 1425s 2s/step - loss: 0.2799 - accuracy: 0.6688 - val_loss: 0.2890 - val_accuracy: 0.6749\n",
            "\n",
            "Epoch 00003: val_accuracy improved from 0.63017 to 0.67493, saving model to drive/MyDrive/Colab Notebooks/Plant/MobileNetV2-best-dataset-062021-1.hdf5\n",
            "Epoch 4/15\n",
            "\n",
            "Epoch 00004: LearningRateScheduler reducing learning rate to 3.4000000000000007e-05.\n",
            "776/776 [==============================] - 1440s 2s/step - loss: 0.2451 - accuracy: 0.7146 - val_loss: 0.2602 - val_accuracy: 0.6943\n",
            "\n",
            "Epoch 00004: val_accuracy improved from 0.67493 to 0.69425, saving model to drive/MyDrive/Colab Notebooks/Plant/MobileNetV2-best-dataset-062021-1.hdf5\n",
            "Epoch 5/15\n",
            "\n",
            "Epoch 00005: LearningRateScheduler reducing learning rate to 4.2000000000000004e-05.\n",
            "776/776 [==============================] - 1469s 2s/step - loss: 0.2212 - accuracy: 0.7366 - val_loss: 0.2312 - val_accuracy: 0.6888\n",
            "\n",
            "Epoch 00005: val_accuracy did not improve from 0.69425\n",
            "Epoch 6/15\n",
            "\n",
            "Epoch 00006: LearningRateScheduler reducing learning rate to 5e-05.\n",
            "776/776 [==============================] - 1495s 2s/step - loss: 0.2028 - accuracy: 0.7581 - val_loss: 0.2024 - val_accuracy: 0.7614\n",
            "\n",
            "Epoch 00006: val_accuracy improved from 0.69425 to 0.76139, saving model to drive/MyDrive/Colab Notebooks/Plant/MobileNetV2-best-dataset-062021-1.hdf5\n",
            "Epoch 7/15\n",
            "\n",
            "Epoch 00007: LearningRateScheduler reducing learning rate to 4.2000000000000004e-05.\n",
            "776/776 [==============================] - 1459s 2s/step - loss: 0.1819 - accuracy: 0.7742 - val_loss: 0.1959 - val_accuracy: 0.7543\n",
            "\n",
            "Epoch 00007: val_accuracy did not improve from 0.76139\n",
            "Epoch 8/15\n",
            "\n",
            "Epoch 00008: LearningRateScheduler reducing learning rate to 3.5600000000000005e-05.\n",
            "776/776 [==============================] - 1466s 2s/step - loss: 0.1687 - accuracy: 0.7870 - val_loss: 0.1886 - val_accuracy: 0.7635\n",
            "\n",
            "Epoch 00008: val_accuracy improved from 0.76139 to 0.76348, saving model to drive/MyDrive/Colab Notebooks/Plant/MobileNetV2-best-dataset-062021-1.hdf5\n",
            "Epoch 9/15\n",
            "\n",
            "Epoch 00009: LearningRateScheduler reducing learning rate to 3.0480000000000006e-05.\n",
            "776/776 [==============================] - 1435s 2s/step - loss: 0.1553 - accuracy: 0.7912 - val_loss: 0.1868 - val_accuracy: 0.7693\n",
            "\n",
            "Epoch 00009: val_accuracy improved from 0.76348 to 0.76928, saving model to drive/MyDrive/Colab Notebooks/Plant/MobileNetV2-best-dataset-062021-1.hdf5\n",
            "Epoch 10/15\n",
            "\n",
            "Epoch 00010: LearningRateScheduler reducing learning rate to 2.6384000000000004e-05.\n",
            "776/776 [==============================] - 1446s 2s/step - loss: 0.1470 - accuracy: 0.7958 - val_loss: 0.1846 - val_accuracy: 0.7356\n",
            "\n",
            "Epoch 00010: val_accuracy did not improve from 0.76928\n",
            "Epoch 11/15\n",
            "\n",
            "Epoch 00011: LearningRateScheduler reducing learning rate to 2.3107200000000005e-05.\n",
            "776/776 [==============================] - 1454s 2s/step - loss: 0.1401 - accuracy: 0.7977 - val_loss: 0.1808 - val_accuracy: 0.7682\n",
            "\n",
            "Epoch 00011: val_accuracy did not improve from 0.76928\n",
            "Epoch 12/15\n",
            "\n",
            "Epoch 00012: LearningRateScheduler reducing learning rate to 2.0485760000000004e-05.\n",
            "776/776 [==============================] - 1446s 2s/step - loss: 0.1335 - accuracy: 0.8067 - val_loss: 0.1793 - val_accuracy: 0.7607\n",
            "\n",
            "Epoch 00012: val_accuracy did not improve from 0.76928\n",
            "Epoch 13/15\n",
            "\n",
            "Epoch 00013: LearningRateScheduler reducing learning rate to 1.8388608000000004e-05.\n",
            "776/776 [==============================] - 1449s 2s/step - loss: 0.1262 - accuracy: 0.8119 - val_loss: 0.1820 - val_accuracy: 0.7455\n",
            "\n",
            "Epoch 00013: val_accuracy did not improve from 0.76928\n",
            "Epoch 14/15\n",
            "\n",
            "Epoch 00014: LearningRateScheduler reducing learning rate to 1.6710886400000004e-05.\n",
            "776/776 [==============================] - 1443s 2s/step - loss: 0.1207 - accuracy: 0.8077 - val_loss: 0.1803 - val_accuracy: 0.7562\n",
            "\n",
            "Epoch 00014: val_accuracy did not improve from 0.76928\n",
            "\n",
            "validation\n"
          ],
          "name": "stdout"
        },
        {
          "output_type": "display_data",
          "data": {
            "image/png": "[encoded data removed]",
            "text/plain": [
              "<Figure size 432x288 with 2 Axes>"
            ]
          },
          "metadata": {
            "tags": []
          }
        },
        {
          "output_type": "stream",
          "text": [
            ">>>>>>>>>>>>>>>>>>>>>>>>>>> validation_accuracy 0.736\n",
            "filenum=  1\n",
            "Split des données entre train set et validation set en utlisant la 3-fold cross validation \n",
            "(12421,) (12421, 5)\n",
            "(6211,) (6211, 5)\n",
            "12421 6211\n",
            "\n",
            "Création des datasets train, validation et test\n",
            "\n",
            "Création du modèle à partir d'une Keras application (deep learning pre-trained models\n",
            "https://keras.io/api/applications/ \n",
            "WARNING:tensorflow:`input_shape` is undefined or non-square, or `rows` is not in [96, 128, 160, 192, 224]. Weights for input shape (224, 224) will be loaded as the default.\n",
            "Model: \"sequential_1\"\n",
            "_________________________________________________________________\n",
            "Layer (type)                 Output Shape              Param #   \n",
            "=================================================================\n",
            "mobilenetv2_1.00_224 (Functi (None, 1280)              2257984   \n",
            "_________________________________________________________________\n",
            "dense_1 (Dense)              (None, 5)                 6405      \n",
            "=================================================================\n",
            "Total params: 2,264,389\n",
            "Trainable params: 2,230,277\n",
            "Non-trainable params: 34,112\n",
            "_________________________________________________________________\n",
            "\n",
            "training\n",
            "Epoch 1/15\n",
            "\n",
            "Epoch 00001: LearningRateScheduler reducing learning rate to 1e-05.\n",
            "776/776 [==============================] - 1894s 2s/step - loss: 0.4378 - accuracy: 0.4286 - val_loss: 0.4304 - val_accuracy: 0.4986\n",
            "\n",
            "Epoch 00001: val_accuracy improved from -inf to 0.49863, saving model to drive/MyDrive/Colab Notebooks/Plant/MobileNetV2-best-dataset-062021-2.hdf5\n",
            "Epoch 2/15\n",
            "\n",
            "Epoch 00002: LearningRateScheduler reducing learning rate to 1.8000000000000004e-05.\n",
            " 74/776 [=>............................] - ETA: 20:58 - loss: 0.3536 - accuracy: 0.5946"
          ],
          "name": "stdout"
        }
      ]
    },
    {
      "cell_type": "code",
      "metadata": {
        "id": "T5KtTrSoP80J"
      },
      "source": [
        "image_size=(100, 100)\n",
        "AUTO = tf.data.experimental.AUTOTUNE\n",
        "batch_size =16\n",
        "test_dataset = (\n",
        "              tf.data.Dataset\n",
        "              .from_tensor_slices(test_files)\n",
        "              .map(tf.autograph.experimental.do_not_convert(lambda x: decode_image(x,None, image_size)), num_parallel_calls=AUTO )           \n",
        "              .batch(batch_size)\n",
        "                        )"
      ],
      "execution_count": null,
      "outputs": []
    },
    {
      "cell_type": "code",
      "metadata": {
        "colab": {
          "base_uri": "https://localhost:8080/"
        },
        "id": "X6pjY4W3J3Kc",
        "outputId": "9babbb96-305b-4f8f-cd36-76947ebc3d1c"
      },
      "source": [
        "model = load_model(\"drive/MyDrive/Colab Notebooks/Plant/MobileNetV2-best-dataset-062021-1.hdf5\")\n",
        "Test_pred =model.predict(test_dataset)  \n",
        "print(Test_pred.shape) \n",
        "print(Test_pred)"
      ],
      "execution_count": null,
      "outputs": [
        {
          "output_type": "stream",
          "text": [
            "(3, 5)\n",
            "[[2.3377746e-02 1.7738640e-03 1.0923071e-04 1.5613437e-04 1.0336936e-03]\n",
            " [1.9125855e-01 4.1015148e-03 8.5098147e-03 1.7083874e-01 8.2656187e-01]\n",
            " [5.4879433e-01 5.6467950e-03 4.6065450e-04 8.6367524e-01 1.7655683e-01]]\n"
          ],
          "name": "stdout"
        }
      ]
    },
    {
      "cell_type": "code",
      "metadata": {
        "colab": {
          "base_uri": "https://localhost:8080/"
        },
        "id": "hrKBTtJKKbO6",
        "outputId": "4a8a655e-077b-4b2a-89f4-31b1109e2864"
      },
      "source": [
        "Test_pred_round=Test_pred.round()\n",
        "Test_pred_round"
      ],
      "execution_count": null,
      "outputs": [
        {
          "output_type": "execute_result",
          "data": {
            "text/plain": [
              "array([[0., 0., 0., 0., 0.],\n",
              "       [0., 0., 0., 0., 1.],\n",
              "       [1., 0., 0., 1., 0.]], dtype=float32)"
            ]
          },
          "metadata": {
            "tags": []
          },
          "execution_count": 15
        }
      ]
    },
    {
      "cell_type": "code",
      "metadata": {
        "colab": {
          "base_uri": "https://localhost:8080/",
          "height": 141
        },
        "id": "3C1SkYcdKtAj",
        "outputId": "ce8eeb69-0d5d-425e-ba2b-d1d8a4f73999"
      },
      "source": [
        "df_test=pd.DataFrame(Test_pred_round, columns=['scab','rust','powdery_mildew','frog_eye_leaf_spot','complex'])\n",
        "df_test"
      ],
      "execution_count": null,
      "outputs": [
        {
          "output_type": "execute_result",
          "data": {
            "text/html": [
              "<div>\n",
              "<style scoped>\n",
              "    .dataframe tbody tr th:only-of-type {\n",
              "        vertical-align: middle;\n",
              "    }\n",
              "\n",
              "    .dataframe tbody tr th {\n",
              "        vertical-align: top;\n",
              "    }\n",
              "\n",
              "    .dataframe thead th {\n",
              "        text-align: right;\n",
              "    }\n",
              "</style>\n",
              "<table border=\"1\" class=\"dataframe\">\n",
              "  <thead>\n",
              "    <tr style=\"text-align: right;\">\n",
              "      <th></th>\n",
              "      <th>scab</th>\n",
              "      <th>rust</th>\n",
              "      <th>powdery_mildew</th>\n",
              "      <th>frog_eye_leaf_spot</th>\n",
              "      <th>complex</th>\n",
              "    </tr>\n",
              "  </thead>\n",
              "  <tbody>\n",
              "    <tr>\n",
              "      <th>0</th>\n",
              "      <td>0.0</td>\n",
              "      <td>0.0</td>\n",
              "      <td>0.0</td>\n",
              "      <td>0.0</td>\n",
              "      <td>0.0</td>\n",
              "    </tr>\n",
              "    <tr>\n",
              "      <th>1</th>\n",
              "      <td>0.0</td>\n",
              "      <td>0.0</td>\n",
              "      <td>0.0</td>\n",
              "      <td>0.0</td>\n",
              "      <td>1.0</td>\n",
              "    </tr>\n",
              "    <tr>\n",
              "      <th>2</th>\n",
              "      <td>1.0</td>\n",
              "      <td>0.0</td>\n",
              "      <td>0.0</td>\n",
              "      <td>1.0</td>\n",
              "      <td>0.0</td>\n",
              "    </tr>\n",
              "  </tbody>\n",
              "</table>\n",
              "</div>"
            ],
            "text/plain": [
              "   scab  rust  powdery_mildew  frog_eye_leaf_spot  complex\n",
              "0   0.0   0.0             0.0                 0.0      0.0\n",
              "1   0.0   0.0             0.0                 0.0      1.0\n",
              "2   1.0   0.0             0.0                 1.0      0.0"
            ]
          },
          "metadata": {
            "tags": []
          },
          "execution_count": 17
        }
      ]
    },
    {
      "cell_type": "code",
      "metadata": {
        "colab": {
          "base_uri": "https://localhost:8080/"
        },
        "id": "vK0OSVYEKnt4",
        "outputId": "699c764b-c3f6-4ab9-dec8-5d5c357750e3"
      },
      "source": [
        "# df_test['labels']='healthy'\n",
        "df_test['labels'] = df_test['scab'].apply(lambda x:'scab ' if x==1 else \"\") \\\n",
        "                        +  df_test['rust'].apply(lambda x:'rust ' if x==1 else \"\")  \\\n",
        "                        +   df_test['powdery_mildew'].apply(lambda x:'powdery_mildew ' if x==1 else \"\")  \\\n",
        "                        + df_test['frog_eye_leaf_spot'].apply(lambda x:'frog_eye_leaf_spot ' if x==1 else \"\") \\\n",
        "                        + df_test['complex'].apply(lambda x:'complex ' if x==1 else \"\") \n",
        "                                                                                \n",
        "df_test['labels']= df_test['labels'].str.strip()\n",
        "df_test['labels'] = df_test['labels'].apply(lambda x:'healthy' if x==\"\" else x)\n",
        "test_labels= df_test['labels']\n",
        "print(test_labels)"
      ],
      "execution_count": null,
      "outputs": [
        {
          "output_type": "stream",
          "text": [
            "0                    healthy\n",
            "1                    complex\n",
            "2    scab frog_eye_leaf_spot\n",
            "Name: labels, dtype: object\n"
          ],
          "name": "stdout"
        }
      ]
    },
    {
      "cell_type": "code",
      "metadata": {
        "id": "ly0I0br0KqS6"
      },
      "source": [
        ""
      ],
      "execution_count": null,
      "outputs": []
    }
  ]
}